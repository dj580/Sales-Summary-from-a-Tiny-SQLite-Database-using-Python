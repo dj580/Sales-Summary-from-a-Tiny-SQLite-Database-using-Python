{
 "cells": [
  {
   "cell_type": "markdown",
   "id": "3e2e85aa",
   "metadata": {},
   "source": [
    "#### Task:- Get Basic Sales Summary from a Tiny SQLite Database using Python"
   ]
  },
  {
   "cell_type": "markdown",
   "id": "54320758",
   "metadata": {},
   "source": [
    "#####  Objective: Use SQL inside Python to pull simple sales info (like total quantity sold, total revenue), and display it using basic print statements and a simple bar chart."
   ]
  },
  {
   "cell_type": "markdown",
   "id": "997b6d33",
   "metadata": {},
   "source": [
    "Step 1 – Create the Database and Table"
   ]
  },
  {
   "cell_type": "code",
   "execution_count": null,
   "id": "07715e0c",
   "metadata": {},
   "outputs": [
    {
     "name": "stdout",
     "output_type": "stream",
     "text": [
      "Database and table created successfully.\n"
     ]
    }
   ],
   "source": [
    "import sqlite3 # Import sqlite3 to handle SQLite database operations\n",
    "\n",
    "# Connect to SQLite (creates file if it doesn't exist)\n",
    "conn = sqlite3.connect(\"sales_data.db\")\n",
    "cursor = conn.cursor()\n",
    "\n",
    "# Create sales table\n",
    "cursor.execute(\"\"\"\n",
    "CREATE TABLE IF NOT EXISTS sales (\n",
    "    id INTEGER PRIMARY KEY AUTOINCREMENT,\n",
    "    product TEXT,\n",
    "    quantity INTEGER,\n",
    "    price REAL\n",
    ")\n",
    "\"\"\")\n",
    "\n",
    "# Commit & close (for now)\n",
    "conn.commit()\n",
    "conn.close()\n",
    "\n",
    "print(\"Database and table created successfully.\")\n"
   ]
  },
  {
   "cell_type": "markdown",
   "id": "78fb044d",
   "metadata": {},
   "source": [
    "Step 2 – Insert Sample Data"
   ]
  },
  {
   "cell_type": "code",
   "execution_count": null,
   "id": "94a87ad0",
   "metadata": {},
   "outputs": [
    {
     "name": "stdout",
     "output_type": "stream",
     "text": [
      "15 sample rows inserted.\n"
     ]
    }
   ],
   "source": [
    "# Reconnect\n",
    "conn = sqlite3.connect(\"sales_data.db\") # Connect to the database\n",
    "cursor = conn.cursor() # Create a cursor object\n",
    "\n",
    "\n",
    "\n",
    "# 15 rows of data\n",
    "sample_data = [\n",
    "    (\"Apples\", 10, 2.5),\n",
    "    (\"Bananas\", 5, 1.2),\n",
    "    (\"Cherries\", 7, 3.0),\n",
    "    (\"Apples\", 8, 2.5),\n",
    "    (\"Bananas\", 12, 1.2),\n",
    "    (\"Cherries\", 4, 3.0),\n",
    "    (\"Oranges\", 9, 2.0),\n",
    "    (\"Mangoes\", 6, 3.5),\n",
    "    (\"Apples\", 11, 2.5),\n",
    "    (\"Bananas\", 7, 1.2),\n",
    "    (\"Cherries\", 5, 3.0),\n",
    "    (\"Oranges\", 10, 2.0),\n",
    "    (\"Mangoes\", 4, 3.5),\n",
    "    (\"Apples\", 13, 2.5),\n",
    "    (\"Bananas\", 9, 1.2)\n",
    "]\n",
    "\n",
    "# Insert data\n",
    "cursor.executemany(\"INSERT INTO sales (product, quantity, price) VALUES (?, ?, ?)\", sample_data) # Insert sample data into the sales table\n",
    "\n",
    "# Commit & close\n",
    "conn.commit()\n",
    "conn.close()\n",
    "\n",
    "print(\"15 sample rows inserted.\")\n"
   ]
  },
  {
   "cell_type": "markdown",
   "id": "66d90f52",
   "metadata": {},
   "source": [
    "Step 3 – Query Data and Display Summary"
   ]
  },
  {
   "cell_type": "code",
   "execution_count": null,
   "id": "f2564065",
   "metadata": {},
   "outputs": [
    {
     "name": "stdout",
     "output_type": "stream",
     "text": [
      "Sales Summary:\n",
      "\n",
      "    product  total_qty  revenue\n",
      "0    Apples         60    150.0\n",
      "1   Bananas         50     60.0\n",
      "2  Cherries         27     81.0\n",
      "3   Mangoes         10     35.0\n",
      "4   Oranges         19     38.0\n"
     ]
    }
   ],
   "source": [
    "import pandas as pd\n",
    "\n",
    "# Connect and run query\n",
    "conn = sqlite3.connect(\"sales_data.db\") # Connect to the database\n",
    "query = \"\"\"\n",
    "SELECT product,\n",
    "       SUM(quantity) AS total_qty,\n",
    "       SUM(quantity * price) AS revenue\n",
    "FROM sales\n",
    "GROUP BY product\n",
    "\"\"\"\n",
    "df = pd.read_sql_query(query, conn) # Read the query results into a DataFrame\n",
    "conn.close()\n",
    "\n",
    "# Display results\n",
    "print(\"Sales Summary:\\n\")\n",
    "print(df)\n"
   ]
  },
  {
   "cell_type": "markdown",
   "id": "b02d9ab2",
   "metadata": {},
   "source": [
    "Step 4 – Plot Revenue by Product"
   ]
  },
  {
   "cell_type": "code",
   "execution_count": 10,
   "id": "08f0ad47",
   "metadata": {},
   "outputs": [
    {
     "data": {
      "image/png": "[encoded data removed]",
      "text/plain": [
       "<Figure size 600x400 with 1 Axes>"
      ]
     },
     "metadata": {},
     "output_type": "display_data"
    }
   ],
   "source": [
    "import matplotlib.pyplot as plt  # Import matplotlib for data visualization\n",
    "\n",
    "plt.figure(figsize=(6,4))# Set the figure size\n",
    "plt.bar(df['product'], df['revenue'])# Create a bar chart\n",
    "plt.title(\"Revenue by Product\")# Set the title\n",
    "plt.xlabel(\"Product\")# Set the x-label\n",
    "plt.ylabel(\"Revenue ($)\")# Set the y-label\n",
    "plt.tight_layout()# Adjust layout\n",
    "plt.savefig(\"sales_revenue_by_product.png\")  # Save the plot as an image file\n",
    "\n",
    "plt.show()# Show the plot\n"
   ]
  },
  {
   "cell_type": "code",
   "execution_count": null,
   "id": "97dc37b2",
   "metadata": {},
   "outputs": [],
   "source": []
  }
 ],
 "metadata": {
  "kernelspec": {
   "display_name": "base",
   "language": "python",
   "name": "python3"
  },
  "language_info": {
   "codemirror_mode": {
    "name": "ipython",
    "version": 3
   },
   "file_extension": ".py",
   "mimetype": "text/x-python",
   "name": "python",
   "nbconvert_exporter": "python",
   "pygments_lexer": "ipython3",
   "version": "3.12.7"
  }
 },
 "nbformat": 4,
 "nbformat_minor": 5
}
